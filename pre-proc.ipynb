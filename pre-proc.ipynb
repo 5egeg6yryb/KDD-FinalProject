{
 "cells": [
  {
   "cell_type": "code",
   "execution_count": 1,
   "metadata": {
    "collapsed": true,
    "pycharm": {
     "name": "#%%\n"
    }
   },
   "outputs": [],
   "source": [
    "import time\n",
    "import copy\n",
    "import pandas as pd\n",
    "import numpy as np\n",
    "\n",
    "from matplotlib import pyplot as plt\n",
    "import pyecharts.options as opts\n",
    "from pyecharts.charts import Funnel"
   ]
  },
  {
   "cell_type": "code",
   "execution_count": 2,
   "outputs": [],
   "source": [
    "%matplotlib inline\n",
    "plt.rcParams[\"font.sans-serif\"]=[\"SimHei\"]     #用来正常显示中文标签\n",
    "plt.rcParams[\"axes.unicode_minus\"] = False   #用来正常显示负号\n",
    "plt.style.use(\"ggplot\")"
   ],
   "metadata": {
    "collapsed": false,
    "pycharm": {
     "name": "#%%\n"
    }
   }
  },
  {
   "cell_type": "markdown",
   "source": [
    "1. 导入原始数据："
   ],
   "metadata": {
    "collapsed": false,
    "pycharm": {
     "name": "#%% md\n"
    }
   }
  },
  {
   "cell_type": "code",
   "execution_count": 3,
   "outputs": [
    {
     "name": "stdout",
     "output_type": "stream",
     "text": [
      "原始数据shape (100150807, 5)\n"
     ]
    }
   ],
   "source": [
    "dt = pd.read_csv('UserBehavior.csv',\n",
    "                     names=['user_id', 'item_id', 'category_id', 'behavior_type', 'timestamp'])\n",
    "print('原始数据shape',dt.shape)"
   ],
   "metadata": {
    "collapsed": false,
    "pycharm": {
     "name": "#%%\n"
    }
   }
  },
  {
   "cell_type": "markdown",
   "source": [
    "2. 为了方便只取 1% 的数据，后续做正式训练的时候把这一部分注释掉"
   ],
   "metadata": {
    "collapsed": false,
    "pycharm": {
     "name": "#%% md\n"
    }
   }
  },
  {
   "cell_type": "code",
   "execution_count": 4,
   "outputs": [
    {
     "name": "stdout",
     "output_type": "stream",
     "text": [
      "<class 'pandas.core.frame.DataFrame'>\n",
      "Int64Index: 1001508 entries, 73509324 to 70178650\n",
      "Data columns (total 5 columns):\n",
      " #   Column         Non-Null Count    Dtype \n",
      "---  ------         --------------    ----- \n",
      " 0   user_id        1001508 non-null  int64 \n",
      " 1   item_id        1001508 non-null  int64 \n",
      " 2   category_id    1001508 non-null  int64 \n",
      " 3   behavior_type  1001508 non-null  object\n",
      " 4   timestamp      1001508 non-null  int64 \n",
      "dtypes: int64(4), object(1)\n",
      "memory usage: 45.8+ MB\n"
     ]
    }
   ],
   "source": [
    "dt = dt.sample(frac=0.01)\n",
    "dt.info()"
   ],
   "metadata": {
    "collapsed": false,
    "pycharm": {
     "name": "#%%\n"
    }
   }
  },
  {
   "cell_type": "markdown",
   "source": [
    "3. 数据清洗"
   ],
   "metadata": {
    "collapsed": false,
    "pycharm": {
     "name": "#%% md\n"
    }
   }
  },
  {
   "cell_type": "markdown",
   "source": [
    "    (1) 缺失值处理,结果显示数据没有缺失值，比较完整干净。"
   ],
   "metadata": {
    "collapsed": false,
    "pycharm": {
     "name": "#%% md\n"
    }
   }
  },
  {
   "cell_type": "code",
   "execution_count": 5,
   "outputs": [
    {
     "data": {
      "text/plain": "user_id          0\nitem_id          0\ncategory_id      0\nbehavior_type    0\ntimestamp        0\ndtype: int64"
     },
     "execution_count": 5,
     "metadata": {},
     "output_type": "execute_result"
    }
   ],
   "source": [
    "dt.isnull().sum()"
   ],
   "metadata": {
    "collapsed": false,
    "pycharm": {
     "name": "#%%\n"
    }
   }
  },
  {
   "cell_type": "markdown",
   "source": [
    "(2) 重复值处理"
   ],
   "metadata": {
    "collapsed": false,
    "pycharm": {
     "name": "#%% md\n"
    }
   }
  },
  {
   "cell_type": "code",
   "execution_count": 6,
   "outputs": [
    {
     "data": {
      "text/plain": "0"
     },
     "execution_count": 6,
     "metadata": {},
     "output_type": "execute_result"
    }
   ],
   "source": [
    "dt.duplicated().sum()"
   ],
   "metadata": {
    "collapsed": false,
    "pycharm": {
     "name": "#%%\n"
    }
   }
  },
  {
   "cell_type": "code",
   "execution_count": 7,
   "outputs": [
    {
     "name": "stdout",
     "output_type": "stream",
     "text": [
      "去除重复值的shape (1001508, 5)\n"
     ]
    }
   ],
   "source": [
    "dt.dropna(axis=0, how='any', inplace=True)\n",
    "print(\"去除重复值的shape\", dt.shape)"
   ],
   "metadata": {
    "collapsed": false,
    "pycharm": {
     "name": "#%%\n"
    }
   }
  },
  {
   "cell_type": "markdown",
   "source": [
    "(3) 去除异常值，即时间戳不在规定的时间内"
   ],
   "metadata": {
    "collapsed": false,
    "pycharm": {
     "name": "#%% md\n"
    }
   }
  },
  {
   "cell_type": "code",
   "execution_count": 8,
   "outputs": [
    {
     "name": "stdout",
     "output_type": "stream",
     "text": [
      "时间段筛选后数据shape： (1000932, 5)\n"
     ]
    }
   ],
   "source": [
    "# 保留时间在2017-11-25 00:00:00至2017-12-4 00:00:00之间的数据，合计9天\n",
    "dt = dt[(dt['timestamp'] >= 1511539200) & (dt['timestamp'] < 1512316800)]\n",
    "print('时间段筛选后数据shape：',dt.shape)"
   ],
   "metadata": {
    "collapsed": false,
    "pycharm": {
     "name": "#%%\n"
    }
   }
  },
  {
   "cell_type": "markdown",
   "source": [
    "4. 按时间升序排列"
   ],
   "metadata": {
    "collapsed": false,
    "pycharm": {
     "name": "#%% md\n"
    }
   }
  },
  {
   "cell_type": "code",
   "execution_count": 9,
   "outputs": [],
   "source": [
    "dt = dt.sort_values(['timestamp','user_id']).reset_index(drop=True)"
   ],
   "metadata": {
    "collapsed": false,
    "pycharm": {
     "name": "#%%\n"
    }
   }
  },
  {
   "cell_type": "markdown",
   "source": [
    "5. 时间维度拆解，增添新列(将时间戳扩充为日期和小时)"
   ],
   "metadata": {
    "collapsed": false,
    "pycharm": {
     "name": "#%% md\n"
    }
   }
  },
  {
   "cell_type": "code",
   "execution_count": 10,
   "outputs": [
    {
     "data": {
      "text/plain": "   user_id  item_id  category_id behavior_type   timestamp  \\\n0   698434  2272322       874415            pv  1511539200   \n1   312258  4338016      3758209            pv  1511539201   \n2   473381  1404187      2344159            pv  1511539201   \n3   161104  2970300      4217906            pv  1511539202   \n4   260997  2480849      2851989            pv  1511539202   \n\n              datetime        date hour  \n0  2017-11-25 00:00:00  2017-11-25   00  \n1  2017-11-25 00:00:01  2017-11-25   00  \n2  2017-11-25 00:00:01  2017-11-25   00  \n3  2017-11-25 00:00:02  2017-11-25   00  \n4  2017-11-25 00:00:02  2017-11-25   00  ",
      "text/html": "<div>\n<style scoped>\n    .dataframe tbody tr th:only-of-type {\n        vertical-align: middle;\n    }\n\n    .dataframe tbody tr th {\n        vertical-align: top;\n    }\n\n    .dataframe thead th {\n        text-align: right;\n    }\n</style>\n<table border=\"1\" class=\"dataframe\">\n  <thead>\n    <tr style=\"text-align: right;\">\n      <th></th>\n      <th>user_id</th>\n      <th>item_id</th>\n      <th>category_id</th>\n      <th>behavior_type</th>\n      <th>timestamp</th>\n      <th>datetime</th>\n      <th>date</th>\n      <th>hour</th>\n    </tr>\n  </thead>\n  <tbody>\n    <tr>\n      <th>0</th>\n      <td>698434</td>\n      <td>2272322</td>\n      <td>874415</td>\n      <td>pv</td>\n      <td>1511539200</td>\n      <td>2017-11-25 00:00:00</td>\n      <td>2017-11-25</td>\n      <td>00</td>\n    </tr>\n    <tr>\n      <th>1</th>\n      <td>312258</td>\n      <td>4338016</td>\n      <td>3758209</td>\n      <td>pv</td>\n      <td>1511539201</td>\n      <td>2017-11-25 00:00:01</td>\n      <td>2017-11-25</td>\n      <td>00</td>\n    </tr>\n    <tr>\n      <th>2</th>\n      <td>473381</td>\n      <td>1404187</td>\n      <td>2344159</td>\n      <td>pv</td>\n      <td>1511539201</td>\n      <td>2017-11-25 00:00:01</td>\n      <td>2017-11-25</td>\n      <td>00</td>\n    </tr>\n    <tr>\n      <th>3</th>\n      <td>161104</td>\n      <td>2970300</td>\n      <td>4217906</td>\n      <td>pv</td>\n      <td>1511539202</td>\n      <td>2017-11-25 00:00:02</td>\n      <td>2017-11-25</td>\n      <td>00</td>\n    </tr>\n    <tr>\n      <th>4</th>\n      <td>260997</td>\n      <td>2480849</td>\n      <td>2851989</td>\n      <td>pv</td>\n      <td>1511539202</td>\n      <td>2017-11-25 00:00:02</td>\n      <td>2017-11-25</td>\n      <td>00</td>\n    </tr>\n  </tbody>\n</table>\n</div>"
     },
     "execution_count": 10,
     "metadata": {},
     "output_type": "execute_result"
    }
   ],
   "source": [
    "date_times = []\n",
    "dates = []\n",
    "hours = []\n",
    "for t in dt['timestamp']:\n",
    "    date_time = time.strftime('%Y-%m-%d %H:%M:%S',time.localtime(t))\n",
    "    date_times.append(date_time)\n",
    "    date_ = time.strftime('%Y-%m-%d',time.localtime(t))\n",
    "    dates.append(date_)\n",
    "    hour = time.strftime('%H',time.localtime(t))\n",
    "    hours.append(hour)\n",
    "dt['datetime'] = date_times\n",
    "dt['date'] = dates\n",
    "dt['hour'] = hours\n",
    "dt.head()"
   ],
   "metadata": {
    "collapsed": false,
    "pycharm": {
     "name": "#%%\n"
    }
   }
  },
  {
   "cell_type": "markdown",
   "source": [
    "6. 以日期为单位做宏观分析"
   ],
   "metadata": {
    "collapsed": false,
    "pycharm": {
     "name": "#%% md\n"
    }
   }
  },
  {
   "cell_type": "code",
   "execution_count": 11,
   "outputs": [
    {
     "data": {
      "text/plain": "               浏览数   收藏数   加购数   购买数\ndate                                \n2017-11-25   93935  3117  5650  2042\n2017-11-26   95993  3129  5757  2029\n2017-11-27   90364  2889  5470  2285\n2017-11-28   88110  2971  5370  2114\n2017-11-29   91923  2922  5459  2227\n2017-11-30   93827  3035  5684  2199\n2017-12-01   97329  3024  6216  2059\n2017-12-02  123376  4036  7919  2514\n2017-12-03  121755  3905  7732  2566",
      "text/html": "<div>\n<style scoped>\n    .dataframe tbody tr th:only-of-type {\n        vertical-align: middle;\n    }\n\n    .dataframe tbody tr th {\n        vertical-align: top;\n    }\n\n    .dataframe thead th {\n        text-align: right;\n    }\n</style>\n<table border=\"1\" class=\"dataframe\">\n  <thead>\n    <tr style=\"text-align: right;\">\n      <th></th>\n      <th>浏览数</th>\n      <th>收藏数</th>\n      <th>加购数</th>\n      <th>购买数</th>\n    </tr>\n    <tr>\n      <th>date</th>\n      <th></th>\n      <th></th>\n      <th></th>\n      <th></th>\n    </tr>\n  </thead>\n  <tbody>\n    <tr>\n      <th>2017-11-25</th>\n      <td>93935</td>\n      <td>3117</td>\n      <td>5650</td>\n      <td>2042</td>\n    </tr>\n    <tr>\n      <th>2017-11-26</th>\n      <td>95993</td>\n      <td>3129</td>\n      <td>5757</td>\n      <td>2029</td>\n    </tr>\n    <tr>\n      <th>2017-11-27</th>\n      <td>90364</td>\n      <td>2889</td>\n      <td>5470</td>\n      <td>2285</td>\n    </tr>\n    <tr>\n      <th>2017-11-28</th>\n      <td>88110</td>\n      <td>2971</td>\n      <td>5370</td>\n      <td>2114</td>\n    </tr>\n    <tr>\n      <th>2017-11-29</th>\n      <td>91923</td>\n      <td>2922</td>\n      <td>5459</td>\n      <td>2227</td>\n    </tr>\n    <tr>\n      <th>2017-11-30</th>\n      <td>93827</td>\n      <td>3035</td>\n      <td>5684</td>\n      <td>2199</td>\n    </tr>\n    <tr>\n      <th>2017-12-01</th>\n      <td>97329</td>\n      <td>3024</td>\n      <td>6216</td>\n      <td>2059</td>\n    </tr>\n    <tr>\n      <th>2017-12-02</th>\n      <td>123376</td>\n      <td>4036</td>\n      <td>7919</td>\n      <td>2514</td>\n    </tr>\n    <tr>\n      <th>2017-12-03</th>\n      <td>121755</td>\n      <td>3905</td>\n      <td>7732</td>\n      <td>2566</td>\n    </tr>\n  </tbody>\n</table>\n</div>"
     },
     "execution_count": 11,
     "metadata": {},
     "output_type": "execute_result"
    }
   ],
   "source": [
    "dt_pv = dt[dt['behavior_type']=='pv'][['user_id','date']].groupby(['date']).count()\n",
    "dt_pv.rename(columns={\"user_id\":\"浏览数\"},inplace=True)\n",
    "\n",
    "dt_fav = dt[dt['behavior_type']=='fav'][['user_id','date']].groupby(['date']).count()\n",
    "dt_fav.rename(columns={\"user_id\":\"收藏数\"},inplace=True)\n",
    "\n",
    "dt_cart = dt[dt['behavior_type']=='cart'][['user_id','date']].groupby(['date']).count()\n",
    "dt_cart.rename(columns={\"user_id\":\"加购数\"},inplace=True)\n",
    "\n",
    "dt_buy = dt[dt['behavior_type']=='buy'][['user_id','date']].groupby(['date']).count()\n",
    "dt_buy.rename(columns={\"user_id\":\"购买数\"},inplace=True)\n",
    "\n",
    "dt_sta_date = dt_pv.join([dt_fav,dt_cart,dt_buy])\n",
    "\n",
    "dt_sta_date"
   ],
   "metadata": {
    "collapsed": false,
    "pycharm": {
     "name": "#%%\n"
    }
   }
  },
  {
   "cell_type": "markdown",
   "source": [
    "7. 以小时为单位做宏观分析"
   ],
   "metadata": {
    "collapsed": false,
    "pycharm": {
     "name": "#%% md\n"
    }
   }
  },
  {
   "cell_type": "code",
   "execution_count": 12,
   "outputs": [
    {
     "data": {
      "text/plain": "        浏览数   收藏数   加购数   购买数\nhour                         \n00    31029  1042  1787   622\n01    14207   523   900   256\n02     7740   300   493   110\n03     5249   183   363    72\n04     4477   137   296    61\n05     5813   205   337    70\n06    12144   436   819   178\n07    22127   741  1415   360\n08    30334  1095  1939   661\n09    37507  1242  2365   958\n10    43055  1512  2665  1284\n11    42589  1459  2523  1190\n12    42422  1417  2507  1166\n13    46479  1456  2813  1235\n14    46178  1474  2865  1222\n15    47842  1599  2864  1211\n16    45964  1516  2786  1159\n17    42048  1422  2549   981\n18    42909  1294  2549   946\n19    54759  1524  3079  1207\n20    66313  1894  3894  1338\n21    75088  2192  4652  1436\n22    74725  2318  4864  1355\n23    55614  2047  3933   957",
      "text/html": "<div>\n<style scoped>\n    .dataframe tbody tr th:only-of-type {\n        vertical-align: middle;\n    }\n\n    .dataframe tbody tr th {\n        vertical-align: top;\n    }\n\n    .dataframe thead th {\n        text-align: right;\n    }\n</style>\n<table border=\"1\" class=\"dataframe\">\n  <thead>\n    <tr style=\"text-align: right;\">\n      <th></th>\n      <th>浏览数</th>\n      <th>收藏数</th>\n      <th>加购数</th>\n      <th>购买数</th>\n    </tr>\n    <tr>\n      <th>hour</th>\n      <th></th>\n      <th></th>\n      <th></th>\n      <th></th>\n    </tr>\n  </thead>\n  <tbody>\n    <tr>\n      <th>00</th>\n      <td>31029</td>\n      <td>1042</td>\n      <td>1787</td>\n      <td>622</td>\n    </tr>\n    <tr>\n      <th>01</th>\n      <td>14207</td>\n      <td>523</td>\n      <td>900</td>\n      <td>256</td>\n    </tr>\n    <tr>\n      <th>02</th>\n      <td>7740</td>\n      <td>300</td>\n      <td>493</td>\n      <td>110</td>\n    </tr>\n    <tr>\n      <th>03</th>\n      <td>5249</td>\n      <td>183</td>\n      <td>363</td>\n      <td>72</td>\n    </tr>\n    <tr>\n      <th>04</th>\n      <td>4477</td>\n      <td>137</td>\n      <td>296</td>\n      <td>61</td>\n    </tr>\n    <tr>\n      <th>05</th>\n      <td>5813</td>\n      <td>205</td>\n      <td>337</td>\n      <td>70</td>\n    </tr>\n    <tr>\n      <th>06</th>\n      <td>12144</td>\n      <td>436</td>\n      <td>819</td>\n      <td>178</td>\n    </tr>\n    <tr>\n      <th>07</th>\n      <td>22127</td>\n      <td>741</td>\n      <td>1415</td>\n      <td>360</td>\n    </tr>\n    <tr>\n      <th>08</th>\n      <td>30334</td>\n      <td>1095</td>\n      <td>1939</td>\n      <td>661</td>\n    </tr>\n    <tr>\n      <th>09</th>\n      <td>37507</td>\n      <td>1242</td>\n      <td>2365</td>\n      <td>958</td>\n    </tr>\n    <tr>\n      <th>10</th>\n      <td>43055</td>\n      <td>1512</td>\n      <td>2665</td>\n      <td>1284</td>\n    </tr>\n    <tr>\n      <th>11</th>\n      <td>42589</td>\n      <td>1459</td>\n      <td>2523</td>\n      <td>1190</td>\n    </tr>\n    <tr>\n      <th>12</th>\n      <td>42422</td>\n      <td>1417</td>\n      <td>2507</td>\n      <td>1166</td>\n    </tr>\n    <tr>\n      <th>13</th>\n      <td>46479</td>\n      <td>1456</td>\n      <td>2813</td>\n      <td>1235</td>\n    </tr>\n    <tr>\n      <th>14</th>\n      <td>46178</td>\n      <td>1474</td>\n      <td>2865</td>\n      <td>1222</td>\n    </tr>\n    <tr>\n      <th>15</th>\n      <td>47842</td>\n      <td>1599</td>\n      <td>2864</td>\n      <td>1211</td>\n    </tr>\n    <tr>\n      <th>16</th>\n      <td>45964</td>\n      <td>1516</td>\n      <td>2786</td>\n      <td>1159</td>\n    </tr>\n    <tr>\n      <th>17</th>\n      <td>42048</td>\n      <td>1422</td>\n      <td>2549</td>\n      <td>981</td>\n    </tr>\n    <tr>\n      <th>18</th>\n      <td>42909</td>\n      <td>1294</td>\n      <td>2549</td>\n      <td>946</td>\n    </tr>\n    <tr>\n      <th>19</th>\n      <td>54759</td>\n      <td>1524</td>\n      <td>3079</td>\n      <td>1207</td>\n    </tr>\n    <tr>\n      <th>20</th>\n      <td>66313</td>\n      <td>1894</td>\n      <td>3894</td>\n      <td>1338</td>\n    </tr>\n    <tr>\n      <th>21</th>\n      <td>75088</td>\n      <td>2192</td>\n      <td>4652</td>\n      <td>1436</td>\n    </tr>\n    <tr>\n      <th>22</th>\n      <td>74725</td>\n      <td>2318</td>\n      <td>4864</td>\n      <td>1355</td>\n    </tr>\n    <tr>\n      <th>23</th>\n      <td>55614</td>\n      <td>2047</td>\n      <td>3933</td>\n      <td>957</td>\n    </tr>\n  </tbody>\n</table>\n</div>"
     },
     "execution_count": 12,
     "metadata": {},
     "output_type": "execute_result"
    }
   ],
   "source": [
    "dt_pv = dt[dt['behavior_type']=='pv'][['user_id','hour']].groupby(['hour']).count()\n",
    "dt_pv.rename(columns={\"user_id\":\"浏览数\"},inplace=True)\n",
    "\n",
    "dt_fav = dt[dt['behavior_type']=='fav'][['user_id','hour']].groupby(['hour']).count()\n",
    "dt_fav.rename(columns={\"user_id\":\"收藏数\"},inplace=True)\n",
    "\n",
    "dt_cart = dt[dt['behavior_type']=='cart'][['user_id','hour']].groupby(['hour']).count()\n",
    "dt_cart.rename(columns={\"user_id\":\"加购数\"},inplace=True)\n",
    "\n",
    "dt_buy = dt[dt['behavior_type']=='buy'][['user_id','hour']].groupby(['hour']).count()\n",
    "dt_buy.rename(columns={\"user_id\":\"购买数\"},inplace=True)\n",
    "\n",
    "dt_sta_hour = dt_pv.join([dt_fav,dt_cart,dt_buy])\n",
    "\n",
    "dt_sta_hour"
   ],
   "metadata": {
    "collapsed": false,
    "pycharm": {
     "name": "#%%\n"
    }
   }
  },
  {
   "cell_type": "code",
   "execution_count": null,
   "outputs": [],
   "source": [],
   "metadata": {
    "collapsed": false,
    "pycharm": {
     "name": "#%%\n"
    }
   }
  }
 ],
 "metadata": {
  "kernelspec": {
   "display_name": "Python 3",
   "language": "python",
   "name": "python3"
  },
  "language_info": {
   "codemirror_mode": {
    "name": "ipython",
    "version": 2
   },
   "file_extension": ".py",
   "mimetype": "text/x-python",
   "name": "python",
   "nbconvert_exporter": "python",
   "pygments_lexer": "ipython2",
   "version": "2.7.6"
  }
 },
 "nbformat": 4,
 "nbformat_minor": 0
}